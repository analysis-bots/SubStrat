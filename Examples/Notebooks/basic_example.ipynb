{
 "cells": [
  {
   "cell_type": "markdown",
   "metadata": {},
   "source": [
    "# Basic example of using SubStrat"
   ]
  },
  {
   "cell_type": "markdown",
   "metadata": {},
   "source": [
    "### Instaling the package\n",
    "```bash\n",
    "pip instlal substrat-automl\n",
    "```"
   ]
  },
  {
   "cell_type": "markdown",
   "metadata": {},
   "source": [
    "#### Imports"
   ]
  },
  {
   "cell_type": "code",
   "execution_count": 1,
   "metadata": {},
   "outputs": [],
   "source": [
    "from SubStrat import SubStrat\n",
    "import pandas as pd\n",
    "import sklearn\n",
    "import sklearn.model_selection\n",
    "import sklearn.metrics\n",
    "import sklearn.datasets\n",
    "from autosklearn.classification import AutoSklearnClassifier\n",
    "from sklearn.utils import Bunch\n",
    "\n"
   ]
  },
  {
   "cell_type": "markdown",
   "metadata": {},
   "source": [
    "### read the dataset\n",
    "- Usually using the read_csv of pandas.\n",
    "- Put attantion that the databaset needs to be able to be learned using AutoSklearn.\n"
   ]
  },
  {
   "cell_type": "code",
   "execution_count": 2,
   "metadata": {},
   "outputs": [],
   "source": [
    "# data = pd.read_csv(\"you_dataset_path\")\n",
    "# target_col = \"target\" # or any other column to predict\n",
    "\n",
    "# For the example\n",
    "b: Bunch = sklearn.datasets.load_breast_cancer(as_frame=True)"
   ]
  },
  {
   "cell_type": "code",
   "execution_count": 3,
   "metadata": {},
   "outputs": [],
   "source": [
    "data = b.frame\n",
    "target_col = \"target\""
   ]
  },
  {
   "cell_type": "markdown",
   "metadata": {},
   "source": [
    "#### Basic run, can be very easy to use  \n",
    "Create the SubStrat object and then use the method `run`  \n",
    "The output of function `run` is ` AutoSklearnClassifier`  "
   ]
  },
  {
   "cell_type": "code",
   "execution_count": 4,
   "metadata": {},
   "outputs": [],
   "source": [
    "s = SubStrat(data, target_col)"
   ]
  },
  {
   "cell_type": "markdown",
   "metadata": {},
   "source": [
    "SubStart **today** can only use autosklern.  \n",
    "SubStrat Allow to use custom `AutoSklearnClassifier`."
   ]
  },
  {
   "cell_type": "code",
   "execution_count": null,
   "metadata": {},
   "outputs": [],
   "source": [
    "custom_cls = AutoSklearnClassifier() \n",
    "s = SubStrat(data, target_col, custom_cls)"
   ]
  },
  {
   "cell_type": "markdown",
   "metadata": {},
   "source": [
    "#### Start SubStrat flow"
   ]
  },
  {
   "cell_type": "code",
   "execution_count": 5,
   "metadata": {},
   "outputs": [
    {
     "name": "stdout",
     "output_type": "stream",
     "text": [
      "Starting summary algorithm\n"
     ]
    },
    {
     "name": "stderr",
     "output_type": "stream",
     "text": [
      "100%|██████████| 25/25 [01:48<00:00,  4.32s/it]\n"
     ]
    },
    {
     "name": "stdout",
     "output_type": "stream",
     "text": [
      "Start fit Sub data at 2023-08-24 00:07:51.960383\n",
      "Stopping early! Achieved accuracy of 1.0000 which is above or equal to the threshold of 0.8500.\n",
      "Sub data Accuracy score: 0.8333\n",
      "Start fit Fine-tuned at 2023-08-24 00:08:17.676716\n",
      "Stopping early! Achieved accuracy of 0.9858 which is above or equal to the threshold of 0.9500.\n",
      "Fine-tuned Accuracy score: 0.9510\n"
     ]
    }
   ],
   "source": [
    "cls = s.run()"
   ]
  },
  {
   "cell_type": "markdown",
   "metadata": {},
   "source": [
    "Now can predict on the database"
   ]
  },
  {
   "cell_type": "code",
   "execution_count": 6,
   "metadata": {},
   "outputs": [],
   "source": [
    "X = data.drop(target_col, axis=1).values\n",
    "y = data[target_col].values\n",
    "X_train, X_valid, y_train, y_valid = sklearn.model_selection.train_test_split(X, y, test_size=0.2, random_state=42)"
   ]
  },
  {
   "cell_type": "code",
   "execution_count": 7,
   "metadata": {},
   "outputs": [],
   "source": [
    "y_pred = cls.predict(X_valid)\n",
    "accuracy_substrat = sklearn.metrics.accuracy_score(y_valid, y_pred)\n"
   ]
  },
  {
   "cell_type": "code",
   "execution_count": 8,
   "metadata": {},
   "outputs": [
    {
     "name": "stdout",
     "output_type": "stream",
     "text": [
      "0.9912280701754386\n"
     ]
    }
   ],
   "source": [
    "print(accuracy_substrat)"
   ]
  }
 ],
 "metadata": {
  "kernelspec": {
   "display_name": "SubStrat",
   "language": "python",
   "name": "python3"
  },
  "language_info": {
   "codemirror_mode": {
    "name": "ipython",
    "version": 3
   },
   "file_extension": ".py",
   "mimetype": "text/x-python",
   "name": "python",
   "nbconvert_exporter": "python",
   "pygments_lexer": "ipython3",
   "version": "3.10.12"
  },
  "orig_nbformat": 4
 },
 "nbformat": 4,
 "nbformat_minor": 2
}
