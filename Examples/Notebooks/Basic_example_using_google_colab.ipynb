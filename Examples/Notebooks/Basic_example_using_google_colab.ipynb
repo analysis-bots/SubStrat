{
 "cells": [
  {
   "cell_type": "markdown",
   "metadata": {},
   "source": [
    "# Basic example of using SubStrat\n",
    "## **When using Google Colab**\n",
    "\n",
    "[Link for google colab example](https://colab.research.google.com/drive/1AnsUZuiPGvn1bVfV0YuRMkjOKSoUlUQx?usp=sharing)"
   ]
  },
  {
   "cell_type": "markdown",
   "metadata": {},
   "source": [
    "Build scikit-learn for python3.10.  \n",
    "Please be advised that this process will take a few minutes to complete."
   ]
  },
  {
   "cell_type": "code",
   "execution_count": 1,
   "metadata": {},
   "outputs": [
    {
     "name": "stdout",
     "output_type": "stream",
     "text": [
      "Requirement already satisfied: scikit-learn==0.24.2 in /home/eyal/FinalSubStrat/lib/python3.10/site-packages (0.24.2)\n",
      "Requirement already satisfied: scipy>=0.19.1 in /home/eyal/FinalSubStrat/lib/python3.10/site-packages (from scikit-learn==0.24.2) (1.11.2)\n",
      "Requirement already satisfied: threadpoolctl>=2.0.0 in /home/eyal/FinalSubStrat/lib/python3.10/site-packages (from scikit-learn==0.24.2) (3.2.0)\n",
      "Requirement already satisfied: joblib>=0.11 in /home/eyal/FinalSubStrat/lib/python3.10/site-packages (from scikit-learn==0.24.2) (1.3.2)\n",
      "Requirement already satisfied: numpy>=1.13.3 in /home/eyal/FinalSubStrat/lib/python3.10/site-packages (from scikit-learn==0.24.2) (1.25.2)\n"
     ]
    }
   ],
   "source": [
    "!pip install scikit-learn==0.24.2 --no-build-isolation"
   ]
  },
  {
   "cell_type": "markdown",
   "metadata": {},
   "source": [
    "### Installing the package"
   ]
  },
  {
   "cell_type": "code",
   "execution_count": null,
   "metadata": {},
   "outputs": [],
   "source": [
    "!pip install substrat-automl"
   ]
  },
  {
   "cell_type": "markdown",
   "metadata": {},
   "source": [
    "**Restart Runtime**  \n",
    "![restart runtime.png](data:image/png;base64,iVBORw0KGgoAAAANSUhEUgAAAeoAAAG0CAIAAAByi/PqAAAAAXNSR0IArs4c6QAAAARnQU1BAACxjwv8YQUAAAAJcEhZcwAAFiUAABYlAUlSJPAAAF7eSURBVHhe7b3pnxbFvb/vH/J9+Ht6tkRzJpyTg0EgywQDAgFEhAOGIawRJoOMArIKsi8yEvYMi+CwDAQYQGBkWAaYDQZRQNQoLgejAg749Hcxn55KpbvvZRbgbnhfr9t5dVV/uqq6uuvq6r77xsfymvlPkR3WXUII8cC5q28T0/+KTFhHWccJIcSD5TFT0k9+8hP0FOSJOOgfesm6K8gSQogHx119YyXpOyOmb5DBhRC5QKDvJ554QvpOD/1DL0nfQogc4bHmCaX0nRmnb5C+hRAPnLv6xkqPP/649J0e+ode0gRcCJEjSN/ZIn0LIXKKQN8//vGPpe/00D/0kvQthMgRpO9skb6FEDmF9J0t0rcQIqe4q+/HH39c+s6I6Zu+kr6FELlAkvSdn5/fu3fvIHHfyTV9b9q06b333lu4cGGQTg653PLf/va327ZtW79+fdeuXaPJNlBSUrJz586hQ4cGaXGPaf8hSxDZ6htvHjt2jFHn09DQcPjw4alTp3bq1CmIu2cMHDjw1KlTdXV148ePD7LuLxn1PXny5HPnzgVdk4IOdNZ9k6AdenaNHQyyPGgAzdi/f3+QzoIHq++f/exnb7755p49eyZNmhRkeUjfSUf6jsHGcGNjI77e28Lp06cvXLhAZmlpaccafNiwYWfPnqVGN93u169fVVVVdXV1QUGB5dxnMup71KhR5eXlQdfs3VtZWYmkampqgnQzxcXFQXS7kb7bxqBBg7Zv346+165d+/Of/zzIbUH6TjrSdwypxvDrr79OJpIaPXp0kNURRPX9wMmo7xBt8FqrkL7bxvTp03fv3v3222/HWlX6TjrSdwypxjCT7oqKig4fjdJ3RqTvNvCLX/yCO8UtW7ZMnDhx165dTD6CFS1I30lH+o4hzRjesWOHG42sJSak3dAIt9G7dOnSdevWMW1n+fz585zivXr1Yq2Jm0yHlWYNYBUBVg4F1tfXz5kzZ+/evZRAJEkGZ7du3QoLC6uqqhobGy9cuHD69Gnq8p/tdO7cedmyZe7Jz/Hjx2fNmpXx4U8H6rtHjx6cXrbvqRqQMSYqQfb6yJEjBFtXbN++vW/fvsG6dmA93yp9FxQU+Acl1JJQy9mWw/rKK6+4TdjrFStWcJgsoAMZPny4Wds8vnnz5t/85jfBumbaoO/u3bsvWLCA6fyePXvKy8vXrFnz7LPPButa9D1y5Ehi7KENf2fOnPmzn/0siGh+HP/yyy9zUeG2gACK4hbBD8imkP/6r/+aNGmSNYN9fOONNzgKJNk2iGiOKSoqeuutt6gI/vKXv/zhD3/46U9/GqzOy/v5z38+bdo0KyQ2IETGeLp30aJFfoB7+Pn888+zF6FHWE8//TT9ACxYznPPPUeX0rGUQDlUF3rkRYEbN26kcOv8UaNGSd9hUo1hy0cZaJRk9vpmVDNWDx8+fPDgQTYhh8NDj6Ot+fPnr169mgAMy8mHtsiP1bf598yZM4z8yspKlskhn20t09oGc+fOta2QOxURZgFWOwEo3gJS0VH67tev39GjR1kVagA2cXbOJiYkQfqf/gSC2YQNWUufUJQFtJnW6puwuro6Wmtfk5w8eZLe9lsS1bcdR6zNsjuOjEm3sx0CWuEou7mwPUUZN26crTVaq28CzB3s1PLly9EHy1jp97//vQVwApNDpWT++c9/5sTGMuRMnTrVAlAwG3JObt26FecCCySZYTg7pyoEg1sAuzZ79mxyyGct8WVlZSTB6ZvSKJMcq4hyKJD4P/3pTxaAFletWkXV2JMmWS1+QIiM8X369LFLBR1IgKtxwoQJtjndxR7hcYsHDgfxS5YssSQzEi5FbMW2rmcoyvUMdVGgVWEBLFtS+v4H0THM0OJCd+DAAUYaAxXtkpm9vlEzswnLGTt2bG1tLaPXXZmjD09i9U05HFqMbDl4n5FPJueTm7tx+tLCffv2mQs4M4hhTLqt2AuKra6uTt8DHaVv23285hrA7tMb9BszC8vJPsYkyJl66NAh3M0YtrVsyC6z45zTltNmrOepKw1uN91hYpZnOXQ7k1xiuNmyHL/lYMfRPyLsIxdgcIV0CDazc9M9LifM5t58801/DtsqfSPNxYsXI4vXXnuNia1lvvjiixjH1cLph3Goxe0dpz0BlPnUU0+R5Jw3n7pm5Ofnc0nAa4MGDbIcK4RNuGmwHCuEySxzf5L2fSy4ywa1UyZbOX2jQpo6b948V9Hvfvc7qnZTXSbOlImFXQClMb5KS0tdvT4Z45kz0XsTJ060tWDNxtrWOS+99BJN4jpqa+36SgA3SSQ5l2gepXEULICKuC1jE7vo2gH1LxgcBY6F9B0m1RhGEO+8845Tavb6dhdYMPv414Ys9e1vAlzGsTBXgjFjxgRZzWctIrCiGBhHjhwJBQBTFdw3Y8aMIB1Hh+jbWsiFKvRNLyONnuREZDmbGPAlaPvl6xsYKsy22P0g3Vas591sOoS9YON2k5sAIulPSxr0Nn3OIbYRFdV36DgCJRDDOA/SHYHJgr+WxAVYFYP7Nyit0vczzzzDWqc/g2KZKrpisSdGe+GFF2wtWJngrBTFtnJPzKOF/OpXv0LxrhDm8ph6wYIFttZgc7YyfdtUN7SzwCboEhGzzGGif3wds0DmH//4R7NtiNbGQ6g/uX7QJHep+81vfsOV3tnfdir0fqddM2xPrQHpL8APN63Ttz+GubvHJiTdtAKy17cbvUZoDLdN39EY8IuyZWqPJdSkEB2ib+sfVItwg6xmOBERnDUymxiSoW5k2sLRASzJiE1/NFuF9Wqoqx2xBzeWVC2PHkewYjnNgnS7YYRjVQY2zg2yWm7V3ewPQoM/vQvMjxTr6yNESMRgZQILloO8/GffRlTffiG0h1a5Qghgk9BPInx9W6VWchTbEGlSJknmvPiRwZJmvyCbeOp1z74drj+ZbjOb5qbBnp+Yjt0UxHYqFtspIln2pyxge5rqkD1ktP3hictxD+DA1OMGqhE7wt3oNUJj2Heu5Vh1HaLvurq6ffv22UXIJ/1L2R2o71Am+I3MJoZkqBs7derEbMV9dQlM4bmRJN8C2oz1aqirHbEHlyl50KcezBbtgpSNvqdNmxbbCW0GQaAJG/wh/KEeGvzpXeD7MRWsTa9vSmb6ibY2bNhAJxQ185e//KW1+ibAn55DVN/0ALpcHsGN/e7du2NDZ1tu9bhLtuczsaSPp1hqZLJMFdz0sF9Tpkwhx+9P/wrKtk7lQMtZxezeGuljZ4vpO3TRSn/IHjLa9dWlPUd2D76BtcQ4xRixI9yNXiM0hkOqAmsAmayynOiwj8aAX5Qt4zV3imRPB+o7OrP2n/BkE0MythuBmyGGBDehFMLRcd/Zthnr1VBXO2IPbvqHHtno24pF+kG63bz++uuxLqAx7mErhAZ/eheYH7l5ZxYZZEXIqO8JEybQMG6e/EJCW0ULCenbHnNnnH1H37RJxS9/+UvOIq4oFEunpXoY4ojG28yaXSM/CIrrT3tgwgWsT58+tuDqMn0zJbdkFCaOVOdPHyFaxUNMu/Rtmb4jmMA2NDQ4xRixIzzkndAYvkf6tgAaPG/evGB11nSIvrN5rp1NDPjdaD/4ZNj4c23O/g4xoHValvrmTplGHj161F3Ro2Sj74599s1tfmnca4Jgz1LdNzGhwZ/eBbHPvtEWpbGPzz33HMmoea1MYIFkdApJCVwSWqVve0wceo3d17fFh2QagkNAy/v37x+kW56w79ixI1YO6eNDLTToMabqof5c0Pw2JPdbHAj/Sbf1TOjC5qNn3+3SN9gE3A1XU4//zkCvXr0OHDjgj/Ds9X3ixIkBAwZYjjWgnfomyeUdv5w6dcq95YLyli1bhi/SGAc6RN/AuUU+VvVfRQi9VZJNjN+NtM26nZtTWwsrV64kIPQtYhtolb6HDBlCSzglmIi5a8nAgQMJcJtH9c0Rwa3uZSH2gn2pq6tzZ1E7wVmMc+doHzOOU3Bo8Kd3AVqxN08QjVMM5xUycrPIjPo28zJRNQdRzsSJE7kYt0rf2bx5QkU0lc53T/+pix7GntbU6dOnE88dibMh93/EI9zQF55G+njK5OpLje7NE9ekUH/ay/jsIBv+7ne/C3JbdopV/rUNIbBHFqY3T9qrb5SHuxmuNjYYsZxSDE4iDzbDOGQt49ON8NDoNVjrF27VsVVVVRXHlfEfVXNoE4jGQEjfCBEtuhaybC8msxex56ijo/RNLdTFqo5979t9dWnfLbO/LNfW1nbUmyehrnZEd9PkS5fSsa7x58+fd/YMtZxtCaa1eN/iCSYHq7qdbSd0DkM61cQTf7HW3khplb4BFdJO0yIi4wYImyAddwZm1Dcl4CCkhrzslRVKA3KctjLqGxFzCWEruwkjnsu2leP0jWRpIcVSFBXZgyMCuNLYmx7+V5F41hXCHZW7OPlkjJ8wYQLtIYcuolWImGVwzTZsXygnNI8G/7Xu2O7Ve9/t0jfMmzePsXf8+HHTH0LnaDGAGaKMQwYkw4MN3QjPRt9QXFzMeCaSv8zpOkrf4P/qEmpqajjY6afe0FH6BuqiRuolwLquQ351SVe4ry4bGhroeXeH0R5aq2+gXmrn6LOKv1xR/KtIVN8UzjSWuzTbhL1mNtqBv7rEiaFHHD52D87NCu4I+TqUjKW796tLDIVE3JkGUfNameAURjw+NQ299dZbKMme6mJkC4gWEtI32LTdbwZ9zlZO3xD61SWbczNnU2+DyQ2nmRVCAJ1GvHulPUr6eJo0evRoMlnF3jEZZxdodmhfgIk8MfZznhD+ry7ZMNS9wMlmV1CrgiR3cukP2UNDtvoWrdW3yJLoZVh0CPalaOwjI/FwIH1ni/R9j5C+2w/zXCbszL7dUw57soG+03xXKZKO9J0t0vc94j7om/vuhxh2MD8/f926dcjaHsHbY2hWsWxPky3yUaP54D/MSN/ZIn3fI6TvdmL7+HPvp5vw1ltvkXTfBAahjxi27w8x0ne2SN9CiJxC+s4W6VsIkVNI39kifQshcgrpO1ukbyFETnFX30888YT0nRHTN30lfQshcgHpO1uGDBkifQshcod/6Bs9BXkiDvrnRz/60eOPP24GdxIXQoj7QGAij3/oe/DgwUGeiIP+oZekbyHEgyVQkr66zB76RwghHiy+wR9jLgkYnBWWJYQQIgfB0u6+n6S+uhRCiGRg+nYG18MTIYRIBlia2fY/9P38888PGjRo4MCB0rcQQuQyWBpXY2y8PXjw4ODhiZ59CyFEjoOl3ctvwcMT6VsIIXKfeH3r2bcQQuQ4WBpXS99CCJEwpG8hhEgkMfrWi4NCCJH7mL4xtvQthBBJQvoWQohEIn0LIUQikb6FECKRSN9CCJFIpG8hhEgk0rcQQiQS6VsIIRKJ9C2EEIlE+hZCiEQifQshRCKRvlvBsGHDzp49e+zYsd69e5OcPHnyuXPn9u/fb2uFEI8CU6ZM+eabbz777LORI0cGWQ+I3NU3ikSU73lcuHChpqZm27Ztffv2DYLuL9K3EIlm+vTpmOTWrVs//PDDnTt3Pv/8c3zSpUuXYHVe3okTJ1i1ffv2IB1Ha/Vt8RQbxRViDWtqaiLz22+/PXr06NChQ23zNOS6vvFjRUXF3hbOnDnDTp46daqgoCCIu49I30Ikl82bN9+8eRNrI03mgpcvX8bjJOvr6/v3728x7dF3jx49iouLi4qK/OsBWPyNGzcuXrxIvT7Hjx8fPHjw7Nmzv/76a1ry0UcfkXn9+nXawIJrVSpyXd/oEmkGWXl53bp1Q+IYnGtmkHUfkb6FSCivvfYaikTf69atC7Ly8goLCz/99NPbt29jdstpj75bm2/g+sbGRtqwZ88ey8HauJucrVu3Wk4qEqZvMGlWVlb27NkzVqAkyWQVywsXLsT1HJvly5fX1NSwfP78+bKyMq6TFhxl7Nix+/btI4zghoaGXbt2uWc10rcQCeX06dN4+ciRI0G6hY0bNzY1NTET5y6fAB8kjnDRLvLdsWOHTZCZOHasvsePH/9lMywEWXl5S5cu5UrDbD00kQ+RPH0XFBQgYnNolvrm5ggRHzx4kJk7BaaZvNPRBANHrqSkhE24MHKpMF9L30IkkeHDhzPLvnHjxuLFi4OsFoqLi69du3b16tUNGzaUl5dfunQJcdfW1rL86quvmr6ZCKP4W7duYWHmgh2r79i1EydOvH79eqpNHMnT97x581AqE+ROnTplqW8uvMypbS0LHBtukQYMGGA5Plib4OnTp1uSKsihujlz5pCUvoVIIqZIhIgWg6wUhB6eYE8cyqSbfHfL3rH6NlOHZt+jR4/mopKxwUnSd7du3XA3OUhz6tSp5GSpb/dgC1JdFVJhJfCXZelbiCSSXqA+sfr+9ttvp02bZjngl2YBdx+1xGExFh9kedjaLl26XLx40X/2Tc6BAwfISby+UWeI+vr6+fPnW0yW+t60aZOtgoz65hrI1L6hocGqM6RvIZJLO/XNtpRgOeCXNnz48MuXL5MELM88He2yYDmsIsDio2+e2GsnFPjmm2/aKzH25gnz7qampu+//z5jg3Nd3/jRvThIzzY2Ni5ZsiSIuAf6pqO5PLB2w4YNLBOzcuVK6VuIRGMCDT2giKW1+g6ymmltvs+CBQuwNgaHTz75ZPPmzWzy8ccfm99Tkev69j1bVFRUV1dXXV09ZMgQy+lYfefn5x85cqS2ttY9KAcrQfoWIrnYV5dMiufOnRtkteC+uhwzZgzJB6XvEMwab926VVNTE6RTkCR9d+rUiYuSr+OO1Te77NvZKCkpkb6FSDqpXhzkPtteHLT3g3NB3126dGloaPj+++/Xrl0bZKUgSfoG5t3Mvt0E2YRLjmstHcRxapu+bVV9fT0XZMuhFkqTvoVIOvPmzWP2HfrZzrhx42J/trNr1y5L3n99Dx06lDbQpCtXrjxsv7oEpsMXLlzYu3dv165dmY/T0egVg5Nz8OBBfEqybfoGLncUzuYUdfjw4cbGRvv9jpUgfQuRXMrKyuxX8vYNITNu+8Lw+PHj7tcxeBx1YtuLFy+imlbpO/2P5tPr+8UXX2RWak3i+sFFxQyWnuTp2/Lx5syZM0n26tVr586dJtmamhourVu2bGmzvrkeuN9nMg3ftm3bggUL3Gvm0rcQicb/l6HQ9LVr10pLS33bMuFFo6xC61u3bm2VvlORTbzF0DCalP5n4T65q28hhBBpkL6FECKRSN9CCJFIpG8hhEgk0rcQQiQS6VsIIRKJ9C2EEIlE+hZCiEQifQshRCKRvoUQIpFI30IIkUikbyGESCTStxBCJBLpWwghEon0LYQQiUT6FkKIRCJ9CyFEIpG+hRAikUjfQgiRSKRvIYRIJNK3EEIkkrC+Bw0aNHDgwAEDBkjfQgiRy2BpXI2x8fbgwYMf+7d/+7d//dd//Zd/+RfpWwghchksjasxNt7+93//98f4j6VevXpJ30IIkctgaefu//iP/3iM/1h65plnpG8hhMhlsLRz949+9KPH+M8MLn0LIUQug6Wdu3/84x8/xn8sPbL63r9//7lz5yZPnhyk20RxcfHx48cbm5k3b16QK4R4KJgyZco333zz2WefjRw5Msh6QJi+zd2PP/74Y/bWIDp/4Pru3bv3sWPH3vO4cOFCTU3Ntm3b+vbtGwR1NO3X9+jRo2kk4j58+HB5efmoUaOCFUKIB8306dMxya1bt3744Yc7d+58/vnn+KRLly7B6ry8EydOsGr79u1BOo7W6tviKTaKK2TMmDG1tbU3b94ks6mp6cqVK6+//rptngYsjavN3U888cRj/McSOs8RfSPTioqKvS2cOXOG3j916lRBQUEQ16G0X98LFy6khZwTQVoIkRts3rwZP2JtpMlc8PLly3icZH19ff/+/S2mPfru0aMHd95FRUX+9QAs/saNGxcvXqReH27TBw8ePG7cuE8//ZSWXLt2DenhbpZp6ptvvhkUkQIsjavN3T/5yU9yTt9nz54dNmxYkJWX161bNyR+7/zYfn1v2rSJ5iHxIC2EyAFee+21r7/+GieuW7cuyMrLKywsxJu3b9/G7JbTHn23Nt+xb98+KsV1zvt79uyhVefPn7dkKsL6zp1fXcbqG3Arhq2srOzZs6ct49xgXTO+gm0uzLFZvnx5TU0Ny/RIWVkZ10kLDmHbLliw4ODBg42NjVweq6urZ82aFaxuhksIZ4ArjcuJtZC/tJZMh2sY1a1fv942odgjR46MHz/eVoFVumzZsqqqKmosLS21fGKItGacPn166dKlnTp1slVCiFbBCEKRDKgg3cLGjRubmpqYiXOXT4APEke4aBf57tixA/szKWbi2OH65ppBGzZs2BCks9jEwNL25CT41aXpe8WKFTmr74KCAjzIKgKy1Dc3Rw0NDRgZ1ZphU03e2RZXYkysTfDhw4dZprQZM2ZYgE3/yWQVnrUAgmkVjp4/fz4nAeVz4NHx1KlT2YR2UjXFnjx5kk0IQPo0iSNkZVIphZAJNG/t2rVkspYYklxsgAXf7EKI7Bk+fDiz7Bs3bixevDjIaqG4uPjatWtXr17FnuXl5ZcuXULctbW1LL/66qumbybC6PXWrVsolblgazWd0cXYjEp37doVpPPymKtxo/Dhhx+m/54vXt8lJSU5q+958+YhO243mIpmqW8uvGPHjrW1LHBsuNwNGDDAcnzYlngEjaYth3suSjt69KhN2OkZaufy5ibCzOvJcdeD6MMTdIx5d+7c6co0NR8/frxfv34kXaXunmDgwIG0kMk4C5ZDJEmuW6NHj7YcIUSWmECvX78+ceLEICsFoYcnpm8m3eS74dnh+p49ezZTe0AvXbp04YqCuP1HOqmI13duPjxBf7ibHHxqE9ss9e33QqqrguFva+Tn53PDhW0LCwttOaR+e2ZCPmtJhvRt1YW0i/p3796N9OfMmUMyWin5rOVYBulmKNltIoTInowCdcTq+9tvv502bZrlgF+aBbBJLBZj8UGWh98ejIG+gxU//PDdd98x3m1VGnJd36gwBCadP3++xWSpb78jWqtvwP7mTTO1NSMEZVIywSF92yb2pN5yDGuYPQyJVmqFxOJKFkJkSTv1zbaUYDnglzZ8+PDLly+TBCzPPJ1ZMwuWwyoCLD765om9dkKBI0aMYBUbXr16lYngBx980NTU9Pnnn/vXjFhyXd94zb04SM+i0SVLlgQR90vfzsjmYjp9WYRZs2Z17drVD7ZtY1sIfsNi9c2ebtmyJSjdg7MhCBJCZIcJ9Msvv/RfGYiltfoOspppbb6DSnH3nj17gnRe3urVq2/evHnlyhX3RmMsua5v37NFRUV1dXXV1dVDhgyxnPuj77KyMi6VTPlN326iHUtI37ZJdPbNRSi9vv1ChBDtwb66ZFI8d+7cIKsF99XlmDFjSN5/fVsVX3/99csvvxxk5eX17dv3ww8/jP2u1SdJ+u7UqdPmzZt9Hd8HffvPvgcMGMDRZZkLSbA6Qsi8Vl1rn32XlJRQCDHuC1IhRHtI9eLghg0b7MVBe8fjQek79LVqly5dLl26dOvWrRUrVgRZcSRJ38C8m9l3bW2tvUlCIwkgx7WWvuA4tUffxO/13jxh0o1n3ZsnZmfC3NfQLOzYseO1116zZEjfYG+eMIXv3Lmz5XA4Q2+ehPQ9YsSIM2fOkDl9+vQgKy9v2rRp5eXlvXr1CtJCiKyZN28es+/Qz3bs547+Ox6mb/cOn7n1nuobU9uDb//hyaJFi2jtF198QQuDrDgSpm9gZooNMWzXrl2ZnNLR6BKDk3Pw4EGUR7I9+qZwfG0F2mvdqNYdPISLyq3GjRs32hvZxCxfvtxmylF9U6O9911VVcWlnmKj732H9A1LliyxN8ErKiq4AFhLKisr3auEQohWwWi1X8l/9NFHjEdm3NicJBMp93NHPI5JsS1KRTWt0jczuTQ/mk+lb2CKfePGDVpy9erVd955BxvQMJrBdC2ISEHy9G357OHMmTNJMhvduXMnmkOaNTU1XFq3bNnSHn2ziu5O86tLDpL/E0pKKywsDNaleGwd2uTQoUPuPXSI1TdQLPd6xLNVXV0dVws35RdCtAH7J6uampqYYuPHa9eulZaW+rbt378/N/esQqZbt25tlb5TkU28/29pUfvHH3/sv6ORitzVtxBCiDRI30IIkUikbyGESCTStxBCJBLpWwghEon0LYQQiQRL5//Xzy6NnXSjaEbTS7OkbyGESAbStxBCJBIsrYcnQgiRPKRvIYRIJGF9jx07dsKECYWFhdK3EELkMtK3EEIkEulbCCESSVjfevYthBCJQPoWQohE4uv7Zz/9qfQthBDJwNf3hN/0lL6FECIZOH13/mmnMyMLpW8hhEgGTt/FPZ65OXGm9C2EEMnA6Rtv66tLIYRIDNK3EEIkEulbCCESifQthBCJRPoWQohEIn0LIUQikb6FECKRSN8ZoB+mT58+atSoIN0R9OvXr7i4eFozgwcPDnKTA71Bn9yLM6SwsPDVV18dMGAAy7/5zW+mTJkyadKkrl272loh2sm9O3UfCLmrbwYtQ5e+9mE8jx07tnv37kFQRxNVRofru1evXlSBuCdOnPjiiy/27NkzWJEcpG9xn+nUqdNzzz1nkx7OPf5OmDCBoRSszvpsae2pa/GxZOkETmZOaU7sIN2h5Lq+OU7sOYfK/hXyyZMn03GvvPLK008/HcR1KPdB31YgF6EgnUCkb3E/6dy5M+OFU45zo6ioCBWYGUgOGTLEYtqpb7aihJ///OdBugWLp1hTkI+rOj2PtL45JHRrkNV8IOm4e6e/+6Dve+e++4b0Le4nL7zwArLmTPjVr34VZOXlDRw4kFPl5Zdfzs/PJ9lOfbc2P3uk73/oG6w7WPXUU0/Fdo2vAPaC3ucYcAZQFMucB+PGjYteZq06Ahx2KkRLoHAuHn4JXFT+8Ic/uPK5wITabNgZdrfoFlzLKc0vYeLEib1797ZVBi2h2VRtAX4VroWWhGjX9enThxw2JJJ86qLNtgrSt5/7Vn/faQawnOoMIX7YsGF2n0Rp3PBy2xusa4ZdYwetMYQRzCa2SvoWIX7xi19wCnFW/O53vwuymuGcsfOQUzd25Do5EMACZxpnVGs1nSrfYWcsZ/iLL77oxhfxNM9OYHIcbrynGXGxzbZVUagoYfp++umn3ajOUt9Tp04lh9suVlmXRSfv//M//zNo0KCCggLrst///vckyUxVgtOl3RBwDFhLJn9Zjn28g6O54aIENufMQ1vWSHaErchkq5EjRxJACW4XgDPYTlD+EmBV0Eh7bm4tdO2BUNdZLwFn2OjRo5mwED9+/Hj2jrUZ20+fWHtYZbtPkhJizxDOWqpgLWF0MrvJhsSzsxZgjbG1EOpMymet7bid/Xagba14BOnXrx+nBNf76JRr8ODBnCGcb7Ej1840zj2wE4l5Omda7Knb2nyHG61UzbINH3j22WdtvFMCSWp34z39iIttdnNVMdCwhOmbY8aOsf+YwnaVXgvWNeMrgL2g9+nZZ555xtayQJko7Je//KXl+ESVkaoEYrp160aS04X2MD91U0i718NNlgwRPSFGjBhBDm7luFqO7ReTDsRN0jbhNI2twlpIjK2CUNfZucI5bWvtYsAFiSk5yfTtty9a3aUC3LUk9gyxlhNgLQc2ZHPbF25+6XnWurtgK40q7Gso6VuEsNOb0RGkUxA9W+xUhIEDB1oOREef0dp8B2csAQwxd3VhQJHjhr81w3dU+hEX2+xU0LDE6Bu72fWWfbMRHu0aiOob8dkqiBbrEz0J0pfAMWNeELoYWCGx8wUInRCuNP9rdI6r3YuxvxbAxdlvMPojkz196qmnrIVp9O13iIE0WUV/Zmy/FR66FKU5p1llzQ7SzTAHp/1cLezSy+kbrGjG38RvqjWDHXHHQjyCRE/vWKJni5ODsyT4p66VnAqLsfgorj12xvbv39+SEJJSKJlxxMU2OxU0Mqf1HfSWB/vmvvMNdY1hHcoqlu0I+cc+pLYQ0ZMgfQkW39yuMH4hPv4JBK5GRGw5htU7cuRIC0h1MYCM+0gAfqRP/vjHP9ItfjkZ2x9qrRGbadD5bl4fxTaMxUrzj53rmdhuFI8I0dM7lujZEisH/9S1uaBBJPmcukF6yhSbT1g8xTK/9nEK8s9YI1RvKJlxxMU2OxXsSIy+f/vb38YOzvuJOQjvsCfWZVyySA4dOjSIyBl9FxcXD4tgD+CCbTz8EwhSHS1Xr1WR5nBms4/49KWXXqL3iLQutVUZ2x9qrRGbaVCyX28INqR2bmWCOjzswZ9/7Kxt/rEQjyB2eofu/6JEz5bYkZXq1G1tvsM/Y41QvaFkxhEX2+xU0LAYfS9ZsiRNi+8PUQf17duXyyMSd8/yY3fV71D2gt7nGNgqiBbrEz0J0pcQjc9I6IRwJYRm31ylrF4LaM/s29G5c2f6kAshDrVuzNj+UGuN2EyDzs84+47d0PCPXRv6Vjx82FeXRUVF0cmQTZ/tzI+eLbFySHUGtjbf4Z+xRqjeUDLjWR3b7FTQsLC+mQeVl5enafH9IeqgTp06WW/aAYPYXfU7lL3w4yFarE+0c9OX8Mtf/hIPUl3oraY0hE4IV1qrnn2TyXyEonB6+hb+4he/IGDgwIHuURoL9sYVN4AZ22+Ft/PZ9wsvvMDu9OzZ077VYTnVcz3/2EWPhXgE4QRmrhp7inJacjpxdrEcPVti5ZDq1G1tvsM/Y41QvaFkxhEX2+xU0LCwvpnDHzhwIE2L7w++g4KsvDwmjOw8mfYeCKsmT57sq83ec3Adyl7Q+xwDWwuxxTrcSWBvlUDGEuwA091udszCH//4R/emR4joCWFvnqDU//7v/7YcO4T2tgZJ28R/84RbLSxpVrXpyUsvveQaYJtbC3/961/TP/6rI/61gWT69lNCaHN7VyS0Cw6rmgBrOfhvnjAzsKPjvwnOpYX22KijGay1Y+eOhRuQ4tHErvqcCf7PduxMs5tIktGRawEhD0ZHn9HafId/xhqhel3SDd70Iy622amgYUnSN9ixnDBhAjdT9Ai7TZKjSA53WOw5Sdeh7AVJ+su2hfT6ph8nNv+ihL9sRTJjCVgJdVobMCxKZRUl+C8G+URPCAqk5WRS7B/+8Ad7uOF2AcyYZFqAvShKdaZUa7NtzrbWfpKuheZ6CuQKUVBQYK0l2LSYsf1uc04psLXEx54hbEIhrEXTLFCjxbtvLFggCRTl9oXG2Mgk0+24G5DWTvHI0rlzZxvmdhJyknNWcNr4YyQ6cmM9GB19BucY5xtbBekWLN5GVgj79tI/Y41QvTZ/omGc6ow+ctKPuNhmp4IdCeu7f//++/fvjx2c95OQJR2Wz97ae5EkbS5JdxCMEcaMGeM6lL0gP418ozCZpbvZii7O5rU84KhTLzlE0hLWpnr4C7EnUKgEjrT/LAWoFBWyXwTwl2X/3+2iJeZB1uJNhMvhdy3knPD/uR/y2ZwCbVtI3342p0CKdVVznrGc6gzx4ymN4RTqDZL+NYYOccPGHww0nrU0xm+qeDQJncOcJAjU/bLMCI3cWA/Gjr40WHws5gT/jDWi9SJ6G1zjx4+3nDQjLrbZqWBHwvp+8sknt27dmv0eCiGEuP/E6JsEUyfpWwghcpl4fT/xxBPStxBC5DLx+iZL+hZCiFxG+hZCiEQifQshRCKRvoUQIpFI30IIkUikbyGESCTStxBCJBLpWwghEon0LYQQiUT6FkKIRCJ9CyFEIpG+hRAikUjfQgiRSKRvIYRIJNK3EEIkEulbCCESifQthBCJJF7fzz77rPQthBC5jPQthBCJJF7fengihBA5jvQthBCJxNd3ly5dAn3PmDFD+hZCiFzG1/eECRPu6vvJJ598++23pW8hhMhlfH1v3rz5rr7z8/N37twpfbeWyZMnnzt3bv/+/UG6oyktLW1sbFy1alWQFiJXef/992/durVy5cog3W62b9/+ww8/nDhxIkhHOHbs2O3btw8dOhSk8/KGDh16+vTpmzdvsuEnn3wyfPjwYMVDhNP3oEGDqqqqgocnJSUlD1zfvXv35pC853HhwoWamppt27b17ds3CMolOlbfmzZtYpcXLlwYpPPyVq9eff78+UWLFgVpITqaHj167N69+/r163fu3MF6uK+hoWHixInB6rw8jIyXsXOQTkEb9L1kyZKPPvqoqamJevnL8p///OdgXRb6fuedd9hqx44dQTovD3ezyTfffHPx4kXTOpuTQ1EWkA22SSxpGuOTZY+1Dadvaqmrqwv03b179xzRN0KsqKjY28KZM2eQ2qlTpwoKCoK4nOFe61uIe8qIESM++OADxPTdd9+hG2ZLX331FR7HgMznLKY9+u7SpUtRUVFxcTEXiSCrhfLycubOcPXqVeq9fPkym1M1BmArAjLqO8TIkSM/++yzb7/9ds6cOUFWWn0TP2XKlMGDBwfpFmyTv/3tb7QqBPPIICgt90HfzzzzDFcvLlGBvsnKEX2fPXt22LBhQVZeXrdu3ZA4Xsuy7+4n0rdILljSVMVZN3ToUJe5Z88erMpc2DLbo29TKhcDRBlkNYNh8ezXX389b968IKt5NH3xxReukNbqmyqoiOqoNMhKq+9Uq9JskiX3Qd/Tp0/Hk9y+5Lq+wSxZWVnZs2fPWGOSJJNVLKM/TsfNmzcvX768pqaG5fPnz5eVlUWv/47CwkLqbWxsJJhN1q1bxzUjWNd8/SDHFcW1xDUv2pg0wQb9fvz4ceriYs693tKlSzt16mRt9jGJR4Xet29fTqz6+nryQ+W73nvllVcOHjxoVVRXV1u3CBHCOfTll18Osprp378/M+Lvv//+yJEjCBGXOUxJJlbO3traWkT/6aefDh8+vFX6ZniyYVRw+/bto2ROY5atFmTK5YR2skz5VOquNL5nbdlBJKMjSLQQMnKb9W17unHjxoaGBnvyQ/MwDFc+u4TcrawFt4/0Kv1pO8JWjF83ME33ly5dIoCF6BHxwdLdu3fn3gUfcuuQAH0XFBQgRFYRkKW+ERydi8UQHAWSk2ryTo8TDPTIli1b8B3BnDFdu3Zlrc39UeHhw4dLS0v5yzIx9iQn1Jj0wYCsybG63nrrLRqGYTkPCFi2bFlFRQVVc96wbN+6hPRNt5j6OXKufE5om25Y75HDjp88eZKWWABdN3r0aCtBCAcj4s6dO2guSHtw5qAhbEIMOkM3165d46Rds2YNazlFcRCiYXN8dPny5dbqe8WKFQRT5rhx44KsZl599VVqWbx4MctWy40bN4ikiosXL5oZaY8F+55lk3feeefmzZu4j/G4Y8cOxg5F4URiuMywTOG2odEefXPtMc/SqitXrtA/XO3Wrl3LpSW2x3A3I53u4rrIIOUvy2w+bdo01pq+2YRiv/vuOzYsLi5urioGm31jbLydWz/bSaVv7rDQEFdmJqpZ6hupjR071taywPGjTwcMGGA5PmiOM3j27NmW7NevX1VVFYZlSk6ypKSEqjnbqNoCmNSTYxeDUGPSB48YMeLMmTPOtmB1Ob1G59p+DmXu2rWLk4CzxJVv14MDBw5wsbHeI4CpTefOnW0TqqYE9xxTCId5CusF6RREHwWYWLGP/+ijVfo2nVHIV199RWkkgxUe0VpY4GqB3Wy8hDxrM9/78PCEPSWAYeXuAzAAOmYgWzLaYwSgZlRjj/XBnlBhA5YtnmsPN+62Ng1J0jfzWY4ZOVhy6tSp5GSpbxRmqyDVVcHwtzU4megKqs7Pz2cCwuH0vU8hFEU+a/3GZAxetGgRp2zoCL355pscdbt4pNc3ExwimX0jfVsLPXr0OHr0qF1sbDeJ8b/jtd6gnCAtRAsZPWWk0jd3eEG6GV/fJrhYnMqZzTBtwnpk8vfzzz9nruqECNFaQheDUPuz0beVmQoLs02ikG+F2J76r/OGuiiUHDx48Mcff/zll1+OHz/ecsBaSz5rLZ4bBSf3NOS6vtFNCPQ0f/58i8lS376w0usbqzKBZXPmtvQpng1WtMjX2hCCAinWb0zGYJpERf7X4iHS69vq4gJuqxzEcFWgf2J3U/oWqWinvp3ODJOa6buhoQE3AZNl5pjYmQXLCT0ZsK+dmGKbx2/cuOHO1Wgt7dc3s7rmVtyF1lqNQfqbb2zOZ5tE3zyxe2jw99QIdVEoaQ2jzCjW2mgPpyHX9Y2k3IuDdCXKW7JkSRBxD/QNnEPMYamIDflLvRZpRmbCuyzCrFmzunbtGtV3mmCa5BoZCwFp9J1KxC5G+hatwjy1b9++IJ2CqFwy6tsREm4aGIOnT59uamrCp0uXLiXnXujbJ9WqNJsY0T0NdVEoaQ3j9mL37t3cYfiUlpb27ds32sNpyHV9+wIqKiqqq6urrq4eMmSI5dwLfRvdunWjOtyNwa1GMzLbUkIQ9M9E9Z0mmCbdi9k3UwbpW7QBppP+E1sf++rSfhETlUtUrBCVGqTS95o1ayjcvl7yOXLkCCXbA5NoLYnWd6hhPtEeTkOS9N2pUyfTkxNQx+q7X79+xE+bNs19GcgCR457pfnz5w8YMIBjWV9fj9ZtbQi/MRmDY599MzHHyHY7mV7fWT77lr5FlqR6cZD54IcffmivUpCMyoUBEhIrRKUGqfTNOXn79u2tW7cG6RasZNa6Zb+WhOp7/PjxX3755c2bN+2uIkq0h9OQJH0Ds2DmwrW1tfYmCY0kgBzXWo4Wt11t0/fzzz9PUawaNWqU5aBv7nHcNNkEiqDda+MsMHF47bXXWA5dS9IHx755UllZiZT9N0/8J0WWY/qmYfbmCQfbXWyib55I3yJLunTpwtmCqjhD/O8MuanHraGf7fhfrEXFCq3SN3Myqrh27ZqNWcO9XWe3mNFa2qxvBk6Q9kil6VT5jiz17feYlUmA62cWmHXZwAxtnp6E6RtKSko4rhxUJGUW44RDu+QcPHgQgZJsm77BvYvNAVu1atW7775LXViVrViLYZneWnUbN24sKyujHOKXL19OS0L6Th9MgNVVV1dHXVu2bMHmJEtLS20tFwySbJJqPk777b1v7m2ZGdlvc9z1QPoWrWXcuHFXrlzBLIjv4sWLnPnMExEoU3L3Ku3EiROvX7/e1NREpP1DIpy9bIKSLMCI1Tf+iv3RPPmcq1SExO1H82zOrQDFfvLJJ/YyeLSWNujbrhO2d6HXZwljkzb8aD66pyH/RnuMPWK/KJZ8hjAzNppEw/bs2UNXPOT6tnxEOXPmTJK9evXauXPn+fPnERMdsW7dOlTYZn2jzlmzZlVVVaFCNsStaJcqgtXNM+j169dTEWuJoSj3zC6kb0gTbExv+dUlsEDV5m7o1q0bVdsqe9c1pG8I/eqSGwVuIGyV9C3aAGcsZ5F79+O7777jTnfMmDHB6mbQFvms5cwkmb2+08ONpv1TJ5RG7aitoqLCzU87RN/M6O2noZQffVYTixUbizUmo74h1GPAfjG3s0uU3Xm4++yHRN9CCCHSIH0LIUQikb6FECKRSN9CCJFIpG8hhEgk8fp+9tlnpW8hhMhlpG8hhEgk8frWwxMhhMhxpG8hhEgkvr67dOkS6HvGjBnStxBC5DK+vidMmHBX308++eTbb78tfQshRC7j63vz5s139Z2fn79z507pWwghchmn70GDBlVVVQUPT0pKSqRvIYTIZZy+V65cWVdXF+i7e/fu0rcQQuQypu9nnnnmnXfeOXToUKBvsqRvIYTIZUzf06dPP3v27JIlS6RvIYRIBli6e/fu5eXllZWVgwcPlr6FECIZ2OwbY+Nt/WxHCCESg/QthBCJRPoWQohEIn0LIUQikb6FECKRSN9CCJFIpG8hhEgk0rcQQiQS6VsIIRKJ9N1qRo0adfjw4cbGxgsXLmzYsCHIFUI8FEyZMuWbb7757LPPRo4cGWTlKqZv+9diGxoackjfvXv3Pnbs2Hse6LKmpmbbtm19+/YNgu47/fr1O378OC2hv/bu3VtcXEzm/v37z507N3nyZIsRQjwQxowZU1tb+9133/3www937tz5+uuvKyoq+vfvH6zOyztx4gSrtm/fHqTjaK2+LZ5io4QKKSwsxB7/93//t3LlyiCrBWv5zZs32aqpqeny5cvTp08P1qUm1/WNFjkAiNI4c+YMHj916lRBQUEQd3/B0TTpwIEDXbt2DbKkbyFygMWLF+NrrP3VV18xwXr//ffN41euXBk3bpzFtEffPXr0YLpWVFTUpUuXIKsZi79x48bFixep1wdZDx48mOvH+vXrP/nkE9pG7bdu3Qrpm4r+9re/sfbatWtID3ffvn2bfZk9e3YQkQLTdy4+PDF9nz17dtiwYUFWXl63bt2QOAZnDh5k3V8WLlxI7Zs2bQrSzUjfQjxYEDTuw3p79uxxeh06dCijFS0ePnzYctqj79bmO6jOrM0EGU1H9Y3TaCSucy1nL9iX06dPWzIVCdM32Py3srKyZ8+etow9g3XN+DI1227evHn58uU1NTUsnz9/vqysjAupBUcZO3bsvn37CCOY7t61a5c9q4k+zCHJgQkSzfgS79WrFxXV19eTz1+WybFV1sJly5Zxy8MlurS01PKFEG3DDNjY2BiaGs+bN485+BdffMFoxaE+JnEm6fi0vLwc+1MCYR2ub24LmH3bMxyrLqRvFBHKnDhx4vXr12nS6NGjg6w44vX97LPP5qy+CwoKEDGrCMhS39gTER88eJBjTIHkpJq8cyQIBg5tSUkJm3BCcKmgrq5du86aNct8XVFRgXxJvvzyy2ZhdM+UnOM0cOBAyunXrx9bkUkkdjZNWzmspYUUy1qgPWvXrm2uXAjRRhiVTFeZqAXpFoYPH3758mX0vWPHDhx96dIlxF1bW8vyq6++SgA+ZcOmZrAw8/QO17dPVN9sxbaUQDlBVl7e4MGDP/7441BmlOTpm8sp7mOC3KlTpyz1zT0Ic2pbywIHj3uoAQMGWI4PdiZ4esuXBlRBDtXNmTPHcrJ5eMJWXB7I8cvhxMLgb7zxBkniKYRrSZqbACFElpgBb9y4wfwpyEpB9OEJPiWH8Th06FDLyQV9A5EZ9yhe37n58KRbt264mxzMOHXqVHKy1Ld/TU51VUiFlcBfP5le388//3x1dfWhQ4f8rzetqVzzWQ7FCyHaQyoDRonVNz5dtWpVkP5nHVvJbBKLxVh8kOVha4NCW2iVvkORUXJd37gyRH19/fz58y0mS337ts2o7/HjxzO1b2hosOqMVunbWmUbhrCmSt9CdCCpDBgllb59S/r6tmcvJOHbb7+9c+fO7du3WbAcVhFg8dE3T+y1k6DQFu6HvmfMmJEj+kZz7sVBur6xsXHJkiVBxD3QNz3I5YG1GzZsYJkYuo8S2qDvgwcPLotgNw3StxAdiBkQq86dOzfISkFr9R1kNdPa/Fhape+2PDx58skn33777RzRt+/ZoqKiurq66urqIUOGWE7H6js/P//IkSO1tbXuQTlYCW3Qd6hVPtK3EB0Lo7KpqSn6K2j31eX05i+ikqLvtn91icV27tyZg/q2LwB9e3asvtll8llLTJCVl1dSUtJafdsPqLjMpOpD6VuIjoW789gXB5mPMytH3/bLnRzUN6AUMv3n7+16cRBn5aC+gXk3WnQTZBOuL0p68PTp023Tt62qr6+3n8IDtVBaa/XdtWtXTibCtmzZ0rlzZ8scOHAgmYWFhSxL30J0LIysL7/8MvSznf79+1+4cAGth362s2vXLktCLuh7x44dNJKmut/3t+pnO3gfJf7jR/Pdu3fPTX0Dlxb2ExViSebjHAlEicHJOXjwIFok2TZ9w9q1aymczSnK/l2q882/33ElxOp7zZo11oby8vJRo0aRw4EkSVFVVVXc0JF/92Xy+vpp06axVvoWosPBDGgUDzJpZeghSubdyNrXIrfvaJGwixcvEk9O9vpO/6P59uibDe1H8xRy5MiRDz74oKmpKfsfzYf1TVbO6tvy0d/MmTNJ9urVa+fOnSbZmpqadevWMedts765HrjfZ2Lbbdu2LViwwL1mTkCsvvv161dRUUEYm0yaNMky+/btyz0aOcTTvAMHDrh/p0X6FuJe4P/DT9jw+vXru3fv9n9dgccJwOCs3bp1KznZ6zsV7dc3jBgxwrUcd19uzT9ZFX54kgv6FkIIkQbpWwghEon0LYQQiUT6FkKIRCJ9CyFEIpG+hRAikUjfQgiRSKRvIYRIJNK3EEIkEulbCCESifQthBCJRPoWQohEIn0LIUQikb6FECKRSN9CCJFIpG8hhEgkpu8//elPp0+f3rBhQ6DvZ599VvoWQohcxtd3eXm59C2EEMnA13du/c/ShBBCpMHX97Fjx6RvIYRIBr6+9+zZE+h7xowZ0rcQQuQyMfp+8skn3377belbCCFymRh95+fn79y5U/oWQohcJkbfjz/+eElJCSu+FkIIkavE67t79+6afQshRC4Tr2+ypG8hhMhlTN8YG2/rR/NCCJEYpG8hhEgk0rcQQiQS6VsIIRKJ9C2EEIlE+hZCiEQifQshRCKRvoUQIpFI30IIkUikbyGESCTStxBCJBLpWwghEon0LYQQiUT6FkKIRCJ9CyFEIpG+hRAikcToe9asWVVVVdK3EELkMtK3EEIkkhh96+GJEELkPtK3aDWlpaWNjY2rVq0K0kI81Jw4ceKHH37Yvn17kM4Zclrf+/fvP3fu3OTJk4N0Jogknq2CdC7R2n3JHTZt2vTee+8tXLgwSOflrV69+vz584sWLQrSQuQkXbp0Yapx7dq127dv49+mpqaLFy++/vrrweq8vClTpnzzzTefffbZyJEjg6w4Wqtvi7958+bSpUuDrH/m5Zdf/vrrr4l5//33g6x/hrpYSzlBOgXS933iYdK3ELlP//79T58+fefOnVu3bl2+fPnChQto2pJlZWUW0059sxUlDB48OEi3YPFAA4Ksf2bv3r20hADp+x9I3/cC6VskkT179jDp/vTTTwsLC4OsvLx169YxKb5+/XpxcTHJduo7TT52pnam2Ey0g9wWhg4d+sknn7CWmEdI35acNWvWzp07uXnHKTU1NQsWLOjUqdOwYcPOnj1LjsNJvFu3bhwzIslkK657BNsqlETmtm3b6KzGxsbKysqePXtaLcuWLauqquKKzc1X7FXBb5uVs2LFio0bN9bX17PMXzakataa/hz+HoUYP378kSNHaAn1ct3mzotdI58FMg8ePGgFwsyZMymHFvbr189ypk+ffvz4ccKABZKWb7i1oZJ79+597Ngxus71Cdju0Gxb8DGJR4Xet29f+tD2PdTJropXXnmFXbA2VFdXJ/FKJpLCuHHjvvjii+jjiy5dutTW1uLNkydPYm0U6TCJr1y5kun5pUuXGIksmH/boG8rhIp27NgR5Lawdu3a77///vPPP6d5j5a+GfwNDQ1nzpxBELgAUxAwbdq0Hj16zJ8/H62Qg9SQ79SpU9kE3xHJVocPH8an/GUZdxQUFLDW9ESBZHJQDxw4YPomSTmAdOjrLPXNVnV1deQDIkNSXGawJBd/uxhQIC1cvHjxwIEDrRAfJgJsRY3c2QELdvFgFXuxb98+yp87dy5JdpYdoXYk3rxp4Hf2a8uWLeXl5ZRD0j2btrVksuqtt96ykrnS0Lb0+h4+fDgtr6ioIMn5xDI5BIT0zbZ2beD65zqZi4TNaKwKcuhnxgyHwwK4oI4ePdpKEKJjYS6FQD/++OPok43Nmzcz48YhnKvvvPMODsXRjFmSzEJM301NTcyOv/vuu2vXrjFPb5u+d+/e/e23316+fJligxXN1w9OfvTNYCHm0dI31mD84y/LKSkpwUTuSVbUswTQWRxLVGU5y5cvJ4cZN8vmKUQzduxYWwvRWrLUN8fDeRlzUSzGLCoqshw/PgobcqhQvCuBaTVJ5zhayAWGGAJsr3ft2mU7Zaso3zV41KhRGBmlUsiIESM4U51MwS85vb4tGZI1+Dm0gZbQHq5zrpPtgsHlsGvXrlYFAQybzp072yb0PyWwIxYvRMdi+mPCFKRTEH14YvrG6dyyWw6k0XSafObdjILQHcCcOXNw+ieffLJhw4ZHTt8hA4bEGkrm5+dzB0QXDBgwwHIAT2Er8llrnkIrwbpmMtZi+GEh3xkcfjLXrFljyWixPhxUjnRIZxRIJqssiR/twsMs291AAFVwms6YMcOSBtVx8WDizxwcdfrnIrz55pvoe/bs2e3XN/NxirJLha0FLiRHjx61BlgVxLgGQ2yPCdFRZKm/VPq+dOkS02TLAV/TVnIqLMbFb926lVk8k6fmYu6Cee7cucPs0CqSvlPq20yNJqIgFLQSK5GMtRh+WGw5thXHyZLRYn1MiLE4b9JgJvjkIHH/ek7JFhnCqqNk/xoQov36Du2mgxguG/Pnz8+mCiE6liz1l0rfIav6+rZnLwaR5N+4cSNIf/ONzQVdvD2Cd19g+knpOyt9MzFcFmHWrFnc18dKJGMthh8WW05oq2ixPmyLZLds2RK0z8MeNxsLFiwgLDTVpWTmuczNgw1asIfslJym3vbrO3bfwcVI3+L+Y/rjni9Ip6AN+vbJJt9Nt1n2J+PSd1b6tom25YSIlUjGWgw/LLacGTNmnG9+B8OS0WJ9nOyCdBz2fJwwe9Ac5GZR8gOZfTMNsRjpW9x/7KvLDz/80P/a0LDpM+cky/dB3+5hN/MwRqJ7FC59Z9D3gAED2H//+8MQsRLJWIvhh8WW06pn3yUlJQTv3r3bffsXgnxOO8S9YcOGqqqq2tpa93VrWVkZ24aebjtin31z84Fwi4uL26/vLJ99S9/ifpLqxUHgdHXT4fugb/eqyb59+/wXUaTveH1XVFQ4CZpoCHBvZbCwY8eO1157jeVYiURroSuwT3V1tesTDjZ3QC7MyqmsrHQKswD/yhEt1sfeDyHAf1972rRp5eXlvXr1YhnVUhpVYMO5c+dyQnA22Gvgtte0kFO2ebu7rl+2bBm6JyD2zRPK4SS2d1o4jylt3rx5ttZetfS7xfpwyZIllgTLMX1Tl715wunouj365on0Le4zjDg0HfrZzurVq3F66Gc7165dc++wdri+gXtl9E2xt2/f3rp1q2VK32F9P//880j2/PnzBw8etH9QCVUxDcQU5G/cuNHep8Ysy5cvxzVZ6tsMZYWgNgongKQLs3IolsK3NMMCRrN3q60QpuFWAkYeNWqUZfrgR1oOXH443vZytL2MiAFZoDp70RsnmnPZC5JUUdr8b0jhdwq36Tm1E2MXLZNpXV0d5wRtw+Yk2cTaZhcDtmXH2YS1tBNct9hbMewRa+2k9/UNeJnZNzG0mZbbb3PcBUP6Fg+E/v37c1ZjcHyNJRkRqByBkkTiFjN48OCPP/6YmI8++ohzmGSr9M0ZzgUg1Y/mXbz9zJIcbgjcHEv6jnmsMX/+fDyFGvbs2WM5KGz9+vVMNslEK6jEXY2z1DcwBfZ/6rlu3To86MKsnG3btsX+6tLgQoKXTZSTJk0Kcv8ZGnak+VeXlMBeUBqNR7JUx8nnXvQGe9fbKZL8WbNmmUOJpIUrVqywl6yN0G8yCXZFscBlwPqHHcTRCxYsYNdct7AXXPZsW5ukh/QNoV9d7t69m0uprZK+xYPC/smqzz//HEFjQ3TJWRf6QXJJScnXzf96lD2ebpW+UxGNZ1jRBkZ3kH4U9J0UJCMhxP1H+u4ApG8hxP1H+u4ApG8hxP1H+u4ApG8hxP1H+hZCiEQifQshRCKRvoUQIpFI30IIkUicvn/961+vXr36sW/+3/+njz766KNP4j7Stz766KNPIj/Stz766KNPIj/Stz766KNPIj/Stz766KNPIj/Stz766KNPIj/Stz766KNPIj/Stz766KNPIj/x+n5GCCFEbhDys/tI30IIkdOE/Ow+0rcQQuQ0IT+7j/QthBA5TcjP7iN9CyFEThPys/tI30IIkdOE/Ow+0rcQQuQ0IT+7j/QthBA5TcjP7iN9CyFEThPys/tI30IIkdOE/Ow+0neCee655w4cONDY2Lh06dIgSwjRbjZv3vz9999/+OGHQfpBE/Kz++SQvkeMGHHixIn3PC5cuFBbW7t79+6RI0cGQe3jT3/6EwVSC3UFWW2io8ppLe+88865c+fmzZtnyT59+uzdu7ehoWHu3LmWI8SjzMCBA3fs2PHll1/evn37hx9+aGpqunLlysqVK4PVzSBl1Iygg3QcrdX3/v37qe7OnTt79uwJsv6ZoqKizz77jJgvvvhi8uTJQW7WhPzsPjmn7/Pnzx8+fPhgCzU1NXj89OnTkyZNCuLawUOmbyGEY8yYMUxlcCjm/eijjy5duoQrLblv374gqH36LiwsXLhwYdS/pm+g3lGjRgW5Htu2beNa8vDrGy0ixyDrmWcGDRqExDF4eXl5kNUOpG8hHlYYHcj6888/nz17dpD1zDNvv/32rVu3/v73v7tR0x59m6aZUwbpFtzsm7rWr18f5LbAPcEHH3zAWni09A30O846fvz48OHDLWf69OnHjh1rbGy8cOHC2bNn16xZ06dPH1sFM2fOpBzWIv26urq33nqLa4AVfveJTAtOvgUFBWVlZUSSyVbkU4IVBWbMtWvXnjx5kup2796dqhyfP//5z6zikvPXv/6VMmk8dw9EhvbOwrZv386y7SbVLV269MyZM9TFhtyIjBs3jrXENNcW4CTuC91K4GpHh9AtVgLzDnaQ2o8cOUKSTAoPPStP359C5D6cw1999VXUnqiTExtvcv6j3bsz5BZM4mbqq1evMsBZ+Oabb+bPn982fTPfp6Lo2pKSku++++7rr7/+9ttvHzl9ox7c6ixJ53KLRNieZlhAOlxjLdjWAh26Y8cOVIXsDhw48Pvf/x5ncVRYhaE2bNhA8rnnnhs9ejRupYSjR4+SiW1tc/c0GT9y+A3qoqLYcizYYV5GppRM47Fwlvo23n33XSxsjee0o3yuKHYJoRnEr1q1yrQe1Tc10jbyKYHqKKGqqopTitLIoWRK8HcwfX8KkQhKS0tx96efflpYWBhktcAsCm9y/jOCDh06hECbmpoYERUVFczTzdTk3L59+8aNG19++SXjqG36rqys5BICXEuCFc0wbNE6DXgU9f3mm29iHPqdKSHOOnXqFN1h8gL8SxJFTpkyhSRhBC9btsxfi55sQk3JlO+uBEAkOYjezTfJoQSOhyXxIAak2GHDhlkORMsJYV7G71OnTrWc2L2L6pumLlq0yNbazrpdA1/WRlTfnFuvvPKKreVUtmsA7ecWxDK55CBoTM1yxv4UIhGYQN9///0gnZrQwxMzNer3pyxt0zf5jB1MbYPLsNuCv//97xs3bny09I1xuO8gBystWLCAnDfeeAO3IiALMNAfmaxiOSo4fITFTF4ZtQsWQzmWtAKZolrSyFLfXBWCdNb6Zp7uP7gI7U507/wcK8G13CBJ5yxZsiRI/3NYxv4UIhGkEmuUWH1fvXp14MCBlgO+vm2ZwmOxGl3t69ev50rgf4GJyhE607KFCxc+/PpGZyHYcybgFoNZgtwIqJCAVatWoR70tG/fPpw7dOhQ29CI1e7IkSPLysrIZ04alPXee06Cvh8dWerbvGxkqe+ofP3ao43xc7IpAfywjP0pRCJop75DE20/k8mNPbaGmzdvUguCtiQwqIlxtWNt3O0ewfvJR0Lf/ouD1dXVuHj16tVBRMvEkFnt2ggvvfSSxcycObOqqspcTDDlFBUV2aqodu3ZN2EcgBUrVkyaNGnu3Ll1dXVOglH9wcOk74z9KUTuYwLFHkE6Na3Vt0+qi4Sf76bbLPuT8UdC377gZs+eTS+cOXNmwoQJlmOzxWwmhoMGDWJz3I3HXQlR7XKcCPCfHliMk2BUf/Aw6TvL/hQil7GvLj/55JPoa9fuq0tL3mt9u4fd3P37j8IfOX336dOHiaHvQTxLks6KfbONqTQmWrRokVvLwl//+lcEbY9foto9dOhQyG5Tpkx5dGbf6ftTiKSQ6sVBYEqOQ48cOWLJe61vMGsz3u++htLyIsojp29g1sxlE5/aKxzFxcX0EfZZvHixBQC+pvsKCgpefPFFgglwr15gJVY1tnwRZ9qlc92v8G36uW3bNvPXsGHDEDo5ToJR/UG0nBBRfYO9FeOe43N/wM1BG/Ttf4/qB2RTAvhh6fszSAuRBCorK5Fm6Gc7b731Fk6P/myHfEveC33bi95NTU20B0tYZnp9v/DCCzNnzvS/PvUJ+dl9cl3fwAyR6TPus9erV69ejQQBAW3ZsuXdd99l7fHjx+3VtzVr1rCqoaGBSffGjRvtnW7+2jR56NChx44dI4etysrKSNrzGXKomgLr6+vZ3JK2SVR/EC0nWNFCrL5XrFhhbaNMxM3BJqZV+uasIp5LFKeLXaL8gGxKgFBY+v4UIimMGTOGUxdj4mvMe+nSJVR++/Ztkk7WwLmNahH6xYsXGZKt0nf6H807fdvPLMlB4qjcMtPom/grV674twghQn52nwTo2/K5A3Jvv3GZsl8J4jKEi0DdS9lMopcuXcoVz63ds2ePP5GcO3cu+mNVVVWV/YyTWxviOfBsgryY2xJAM+y7u6j+jGg5PrH6pm3r1q3jToJV1IXBV65cSeHZ63v06NGHDx+mqVwD5syZEwrIpgSIhqXpTyESBB7csWPHV199hQqxJ+JG4gghWN0M4/3q1asE3Lx5s7S0tFX6TkV0Vm7/yAkSdxPq9Ppm6BFPOUHWPxPys/vkkL6FEEJECfnZfaRvIYTIaUJ+dh/pWwghcpqQn91H+hZCiJwm5Gf3kb6FECKnCfnZfaRvIYTIaUJ+dh/pWwghcpqQn91H+hZCiJwm5Gf3kb6FECKnCfnZfaRvIYTIaUJ+dp94feujjz766JPjH+lbH3300SeRH+lbH3300SeRH+lbH3300SeRH+lbH3300SeRH+lbH3300SeRH+lbH3300SeRH+lbH3300SeRn8d+8pOfPP744z/+8Y//93//N08IIUSugqVxNcbG2//5n/8pfQshRDKI13f//v2lbyGEyGXi9T1jxgzpWwghcpl4fZeUlEjfQgiRy0jfQgiRSOL1/frrr0vfQgiRy/j6fuqppwJ9jx49WvoWQohcxtf3tGnTAn0/8cQT0neOs2nTpvfee2/hwoVBOscINW///v3nzp2bPHmyJYUQ7cfp+9e//vWBAwcCfZP1wPXdu3fvY8eOoQDHhQsXampqtm3b1rdv3yCofQwbNuzs2bPUQl1BVpvoqHJahfQtxCOO0/fs2bPr6upyTt+M+YqKir0tnDlzBimcOnWqoKAgiGsH0ve9Q/oW4l7j9I23//HVZe7oGy0ixyArL69bt25IHC8wBw+y2oH0fe+QvoW41yRM34ACEEFlZWXPnj0tZ/z48UeOHGlsbLxw4cLp06eXLl3aqVMnWwWFhYWUw1psUlNTs27dOq4BVjg5DiffXr16bdy4kUgy2Yp8SrCiwDS0bNmyqqoqqisrK0tVTog0xbo9feWVVw4ePGg7Ul1d7cuOPVq+fLltTgOolwsYy7H6ti7iroWdZYGSOZpRgVoY+Sxn04YQ6TtK+hbiXpM8fRcUFKAMVpklp0yZUl9fTxhGAxbwTmlpqQXbWigvL9+yZQs+wil79uz57W9/O2vWrNWrV7MK45eUlJDs2rVrv379uDAgIxRG5vbt223z4uJiKxANsfZ8M9T1l7/8JbYcC3akL9b2lLUNDQ0nT57k9uLw4cMk2c3Ro0dbCVRBDgakBAKommR6fdNCYurq6rjSDBkyJBt9p2+DT8aOkr6FuNckT9/z5s3DGvv27WNCOnDgwBMnTqAnFmwtWiHppIOGsNjs2bP9tVjG5onRhx5Esi2id/N3cigB+1sSDWEliu3Ro4flQMaHJ+mLtT3lqrN58+bOnTuTQ5hNrjEjSfaFzali1KhRdzdusWd6fbOb06ZNC7LiBBrVd5o2hMjYUdK3EPeaJOm7W7duuJscRDB16lRy5syZg8pDfkEcZLKK5ag17F/joiiWM2oXLMYcB7EayqacEH6xtqfY0P8+FvGhP/aF5UWLFiFW7i1slRHyo495uaKiwrkVoi23sCzbkJFQR0nfQtxrcl3fKCAEk8r58+dbjDkiFhMH4kPliGPXrl1TpkzJz8+3DY1Y7fbt29ce6WLMoKz33nNWitVQNvpOU6ztKSVQjgWDr85YU8dmGr6XHdGWR/Wdpg1R0ndUqHnR2oUQ7STX9c2Ydy8OnjhxAhcvWbIkiGh2BDncwi+LMHz4cIspLCw8evQoYdiEv5TjDBXVrj2UsIcAr7/+OlPR4uJiDOWsFKuhjPpOX2wS9Z2xo0LNi9YuhGgnua5vXyhFRUV1dXXV1dVDhgyxnDQKC9GtWzc2x90Y3JUQ1e6aNWuYS/pPYyzGWSlWQ9FyQqQvNon6zthRoeZFaxdCtJMk6btTp06bN2/2hYI+SO7evdt/yOtghog+pk2b5taysH37drxjj1/MOL528XvIMmPGjKmtrXVWitVQtJwQ6YvNqE579h161f3B6jtjR0nfQtxrkqRvYNbM3BlNjB07luSIESPOnDmDF6ZPn24BgK+5o+/Vq9fzzz9PMCW4FzbQN65nAm5fbJp2q6qq+vTpYwEmnQ0bNpjxe/TogafIcVaK1VC0nBDpi82oTo5FaEeyefPEtdkoLS0lft26dZakJRs3buSqkGUbQmTsKAuQvoW4dyRM38CMG+kgC3u9esmSJeebqaioWLt2rb2tjNrsVcKlS5eSrK+vZ9K9atWqd999l21ZS+Gszc/Pt9/7sBUuI2nPZ8ihaoxjy5a0TWI1FC0nWNFC+mIhuqchdbodYXMrgV32/egTq29rA1vZm+MnT56kK5xws2mDT8aOkr6FuNfE6/vZZ5/NWX1bPi6YOXOm5RQWFpo98QUeQaDupWzmhrNmzWJe7NaWlZUxMbe1UFxczMSWVUePHrWfcY4fP97iAR1jHAJqamrsu9BUGoqWEyJNsdmokx3B4PZPvtAA9mLFihUsZ69voCuoFGvTBnqMJJW2Td+QvqOkbyHuNbmrbyGEEGmI13cuPDwRQgiRBulbCCESifQthBCJRPoWQohEIn0LIUQikb6FECKRSN9CCJFIpG8hhEgk0rcQQiQS6VsIIRJJvL5LSkqkbyGEyGWkbyGESCTx+tbDEyGEyHGkbyGESCTStxBCJBLpWwghEon0LYQQiUT6FkKIRCJ9CyFEIpG+hRAikUjfQgiRSKRvIYRIJNK3EEIkEulbCCESifQthBCJJPH6LigoqK6uPnXq1MCBA4Ms0XEMGzbs7Nmzx44d6927d5CVllbFT548+dy5c/v37w/SDwXFxcX19fWHDx/Oz88PsoS4N+Suvhn/WOA9j4aGhn379o0fPz6IaGbIkCEnT56srKzM0i+JZtOmTfTDwoULg/S9J6f0TSTxbBWkc4Do/hYWFtbW1u7Zs6dr166WI8Q9Itf1zXCtqKjY2wyObmxm3bp1nTp1CuIeJaTv3Ne3EPeNXNc3Y4MREmTl5Y0aNerEiRMYfNGiRUHWo4T0LX0L4UiYvqGoqKi+vt4NmOj44e6VJIrHdDU1NUzVu3XrZquAafvSpUtPnz594cIFYo4fPz59+vRgXTNsfuTIkdjNnW5mzZpVXV1tJXBz4B67I1a22rx58/Lly9mW5fPnz5eVlfXo0cMCgNIo063lrsLfwVTNs5J9UkmcRrr219XVbdy40dWeTfNozMGDB9mcBnClJDK9njLGp9nfqL5TBdt1y+FLvFevXuwCpwT5/GWZHFvl406nxYsX27GbP39+tAHgXyTS9JgVeLc1Ldheh8pkoaGhgbrYF7alXmrn/OncufOKFStcmTt37gw1m+PO0adjIXqWCgHx+u7fv3/O6rtr166HDh1yA4y1vi+mTJnCGIby8vItW7YwVBge7kEkckRnDCE2YRBu376dSIYHxrxbdF7evHnzKBnYxG3OwDOD28g0Dh8+TL4FHDhwwMq30U6ZjFikRgAVkbNt27bm4u/qiUxqZPPS0lL+skwhBQUFrE3TvOHDhy9btoxLBaWRzzI5VqYPkcSzOY1ftWrVu+++S2lu9zM2z75IYBP+staaR9J1b4iM8en3N2S6NMFcU9nlqqoqTIfKUbBdMvv161dZWUkmPcMmBFB77BchdjpRIMHsPjs+Z86cUAOMqL5je4wuxcKrV69mLZfbkpISkmSGymSBJlEvbXNdxCaURpiVeebMGcr0H5fbcWTfOY6cyXYaPJp3nCIN8fqeMWNGzuob/GcIIX0zGBifs2fPbg68O7wZNpz9jH+SNrQY3uRbwKhRo9ic2Q05yIgBw4x10qRJttaEwvB74403SNrmlDZt2jQLQCJMOWtra8eMGUPSRjuDeezYsRbAAmuJGTBgAEkGOeOQaRemtgCmdeSYQNM3j2T6hydPP/00FqMuawzQfnzhdj9j82gGAUw2XfPMI6n0nTE+m/11pksfDL5YgTBWkeNmpuTQGHe8fOx0YhUBzHwtM9QAw68lY4+FTj8IlclCqIu4vSCHmKlTp1pO6CyyKtjQ3RWFTgMhjHh958L/qtjGG2dtKn3zl+XQ+PHHnmF3EoiMZTZBB0yxbZWBAk6dOoXgmN0wvJ0sDHtWc+TIkfz8fBuZKNINRYiOdsaqrQJ/LyiBctzIN6z9Vn765rGcXt+xsEmWzbNlJxEj1L0+GeMz7q9vuozBJEMH9/nnn+dyy62Ym7SClcmMNUi3YK2tqamxib/hN8CR/QElGe2fUJmhNoMFhJrth61Zs4YpCFMoW2UQ4C7DQhgPm75RMAZkJOzatWvKlCk27B3pxwAFou/58+cH6WZcM+iQ0Mg0/IFno90aZvh7YU0lIIq1P+MQtR1Po2+uK8zpmHEz/q1kaFXzXE8asZlGxnhbtjaEsAC/PzMGE+N3NdjmQdA/EzpGQAmUQxVUFGRlre9UPUbS318LCJUZajNkrJRl24sQoXKEiNf366+/nvv6NotFxw/6O3r0KBInhr97ve/KGBixBRrRkQZ+MzIOvGz8yC3wsgj22DR98yCjvu3ZxcmTJ1etWsV9A0XZ44Xsm+f3JMRmGhnjbTnN/vr9mTGYmNABss0PHjwYxHm45xIOf0+DrBzWN1fxtWvXBjvTgnviL4QRr+/Ro0fnrL4ZyWm+unR069YNf+FudMYt9pAhQ8i0gdGq2XefPn2qqqqsGRkHXhv86JO+eZBe3/Yw4cSJE/4gZ5P2NC9NmzPGp9nW8PszYzD4XQ2xhyMVFEvhVEFFQVYO6zu0iRCxxOv7iSeeyFl929nvvsbxxw85jLdp06a5Z9MsbN++3UmZcYjNQw+X33jjjfLy8lGjRmX57DvNwEs/2gcMGIBbKY0yg9X/TPrmsUxAGn0XFxc3NDSEmldWVpZl82y5pqaGi3ewOq1VM8Zn3F+/PzMGQ8hrY8aMqa2t5YqVzbnq72mQlav65pBR6bp162yVEKmI1zdZualvZqYMVxyHai3HHz82/SRpsgP0vXv3buLnzJlD0kaO/2rHyJEjT58+bRcDe/MEI0yYMMHWxr55kmbgZRzt5l82cS8VsLBjx47XXnuN5fTNI2mbL1myxNaGGD58ODIl/oUXXrAcrmQIMfvm2UsR/msS6d88yRifzf66/kwfDH5XA/dhHB022bJli3uZhDsPMqN3MKE9NTjJyfEvANbh2feYnX7cn3GXZgGhnQq1GUIBhh9mARQ7btw4W0v3Llu2jH62b+CFMHJd35zHFS0/mieJGs6fP79y5UrnCxs/zhemD5zFpNu9+OxeBGYre7H6zJkzjHli6urqKNAJ0d77ZnMmvBs2bGBgM3qp2oZNxoGXcbRj4aNHjxJDybSEeRaraPDy5ctpW8bmcREimE1oEnNty3Sw+a5duyicrWiVdReQQ8MIyKZ59BUNsJeUXQmue0NkjE+/v6H+TB9MwJo1a2ytux3BtiStARwv8jl24N7sdIT21HA9RiG0397FJpn9AbUXZmjk4cOHaXP0Fs0/PYxQgOGH0arS0lLKdOche8c+0kJ3YRMCcl3fDB4HVmIq7d+qQ0jfnPqzZs3idOfst02wgP97NgJQPDMsxgMxjL3QTI2kDUg2ZzLLpcJNeTIOvIyjHRiB69evp2QiqYW1fgPSN4+WsDvkQ+gZi0EAI59hb41fvXr12rVrXZOyaR4LaILyacCJEyfmz59PAFj3RskYn2Z/o/2ZvnPwO9dy8tlB925+3759uc7ZLnOpO3DggP9qoCO6pwbnxs6dO+1FHerlfoILZ6sOKNdR7E8Y156ePXuGdso/PYzoXkMozE5j7rqsY2nYihUr3B2GEEbu6lsIIUQapG8hhEgk0rcQQiQS6VsIIRKJ9C2EEIlE+hZCiEQifQshRCKRvoUQIpFI30IIkUikbyGESCTStxBCJBLpWwghEsk/6fs///P/BynOc0hQJHoIAAAAAElFTkSuQmCC)\n"
   ]
  },
  {
   "cell_type": "markdown",
   "metadata": {},
   "source": [
    "#### Imports"
   ]
  },
  {
   "cell_type": "code",
   "execution_count": 1,
   "metadata": {},
   "outputs": [],
   "source": [
    "from SubStrat import SubStrat\n",
    "import pandas as pd\n",
    "import sklearn\n",
    "import sklearn.model_selection\n",
    "import sklearn.metrics\n",
    "import sklearn.datasets\n",
    "from autosklearn.classification import AutoSklearnClassifier\n",
    "from sklearn.utils import Bunch\n"
   ]
  },
  {
   "cell_type": "markdown",
   "metadata": {},
   "source": [
    "### read the dataset\n",
    "- Usually using the read_csv of pandas.\n",
    "- Put attantion that the databaset needs to be able to be learned using AutoSklearn.\n"
   ]
  },
  {
   "cell_type": "code",
   "execution_count": 2,
   "metadata": {},
   "outputs": [],
   "source": [
    "# data = pd.read_csv(\"you_dataset_path\")\n",
    "# target_col = \"target\" # or any other column to predict\n",
    "\n",
    "# For the example\n",
    "b: Bunch = sklearn.datasets.load_breast_cancer(as_frame=True)"
   ]
  },
  {
   "cell_type": "code",
   "execution_count": 3,
   "metadata": {},
   "outputs": [],
   "source": [
    "data = b.frame\n",
    "target_col = \"target\""
   ]
  },
  {
   "cell_type": "markdown",
   "metadata": {},
   "source": [
    "#### Basic run, can be very easy to use  \n",
    "Create the SubStrat object and then use the method `run`  \n",
    "The output of function `run` is ` AutoSklearnClassifier`  "
   ]
  },
  {
   "cell_type": "code",
   "execution_count": 4,
   "metadata": {},
   "outputs": [],
   "source": [
    "s = SubStrat(data, target_col)"
   ]
  },
  {
   "cell_type": "markdown",
   "metadata": {},
   "source": [
    "SubStart **today** can only use autosklern.  \n",
    "SubStrat Allow to use custom `AutoSklearnClassifier`."
   ]
  },
  {
   "cell_type": "code",
   "execution_count": null,
   "metadata": {},
   "outputs": [],
   "source": [
    "custom_cls = AutoSklearnClassifier() \n",
    "s = SubStrat(data, target_col, custom_cls)"
   ]
  },
  {
   "cell_type": "markdown",
   "metadata": {},
   "source": [
    "#### Start SubStrat flow"
   ]
  },
  {
   "cell_type": "code",
   "execution_count": 5,
   "metadata": {},
   "outputs": [
    {
     "name": "stdout",
     "output_type": "stream",
     "text": [
      "Starting summary algorithm\n"
     ]
    },
    {
     "name": "stderr",
     "output_type": "stream",
     "text": [
      "100%|██████████| 25/25 [01:48<00:00,  4.32s/it]\n"
     ]
    },
    {
     "name": "stdout",
     "output_type": "stream",
     "text": [
      "Start fit Sub data at 2023-08-24 00:07:51.960383\n",
      "Stopping early! Achieved accuracy of 1.0000 which is above or equal to the threshold of 0.8500.\n",
      "Sub data Accuracy score: 0.8333\n",
      "Start fit Fine-tuned at 2023-08-24 00:08:17.676716\n",
      "Stopping early! Achieved accuracy of 0.9858 which is above or equal to the threshold of 0.9500.\n",
      "Fine-tuned Accuracy score: 0.9510\n"
     ]
    }
   ],
   "source": [
    "cls = s.run()"
   ]
  },
  {
   "cell_type": "markdown",
   "metadata": {},
   "source": [
    "Now can predict on the database"
   ]
  },
  {
   "cell_type": "code",
   "execution_count": 6,
   "metadata": {},
   "outputs": [],
   "source": [
    "X = data.drop(target_col, axis=1).values\n",
    "y = data[target_col].values\n",
    "X_train, X_valid, y_train, y_valid = sklearn.model_selection.train_test_split(X, y, test_size=0.2, random_state=42)"
   ]
  },
  {
   "cell_type": "code",
   "execution_count": 7,
   "metadata": {},
   "outputs": [],
   "source": [
    "y_pred = cls.predict(X_valid)\n",
    "accuracy_substrat = sklearn.metrics.accuracy_score(y_valid, y_pred)\n"
   ]
  },
  {
   "cell_type": "code",
   "execution_count": 8,
   "metadata": {},
   "outputs": [
    {
     "name": "stdout",
     "output_type": "stream",
     "text": [
      "0.9912280701754386\n"
     ]
    }
   ],
   "source": [
    "print(accuracy_substrat)"
   ]
  }
 ],
 "metadata": {
  "kernelspec": {
   "display_name": "SubStrat",
   "language": "python",
   "name": "python3"
  },
  "language_info": {
   "codemirror_mode": {
    "name": "ipython",
    "version": 3
   },
   "file_extension": ".py",
   "mimetype": "text/x-python",
   "name": "python",
   "nbconvert_exporter": "python",
   "pygments_lexer": "ipython3",
   "version": "3.10.12"
  },
  "orig_nbformat": 4
 },
 "nbformat": 4,
 "nbformat_minor": 2
}
